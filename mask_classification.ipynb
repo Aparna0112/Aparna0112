{
  "nbformat": 4,
  "nbformat_minor": 0,
  "metadata": {
    "colab": {
      "provenance": [],
      "authorship_tag": "ABX9TyNsHefdLtWE11+n3Vmh2+OY",
      "include_colab_link": true
    },
    "kernelspec": {
      "name": "python3",
      "display_name": "Python 3"
    },
    "language_info": {
      "name": "python"
    }
  },
  "cells": [
    {
      "cell_type": "markdown",
      "metadata": {
        "id": "view-in-github",
        "colab_type": "text"
      },
      "source": [
        "<a href=\"https://colab.research.google.com/github/Aparna0112/Aparna0112/blob/main/mask_classification.ipynb\" target=\"_parent\"><img src=\"https://colab.research.google.com/assets/colab-badge.svg\" alt=\"Open In Colab\"/></a>"
      ]
    },
    {
      "cell_type": "markdown",
      "source": [
        "# **PROJECT : MASK DETECTION**"
      ],
      "metadata": {
        "id": "gKpKGwkE_7Pt"
      }
    },
    {
      "cell_type": "markdown",
      "source": [
        "**Goal** of the project is to detect whether a person is with mask or\n",
        "without mask using Support Vector Classifier"
      ],
      "metadata": {
        "id": "xidYS3Z5AD-5"
      }
    },
    {
      "cell_type": "markdown",
      "source": [
        "**Import required libraries**"
      ],
      "metadata": {
        "id": "Z8eM2qq1NLp_"
      }
    },
    {
      "cell_type": "code",
      "execution_count": 1,
      "metadata": {
        "id": "uzM7JiNPRgMY"
      },
      "outputs": [],
      "source": [
        "import os\n",
        "import numpy as np\n",
        "from skimage.io import imread\n",
        "from skimage.transform import resize\n",
        "from sklearn.svm import SVC\n",
        "from sklearn.model_selection import train_test_split\n",
        "from sklearn.metrics import classification_report,ConfusionMatrixDisplay\n",
        "import warnings\n",
        "warnings.filterwarnings('ignore')\n"
      ]
    },
    {
      "cell_type": "markdown",
      "source": [
        "**Store image **"
      ],
      "metadata": {
        "id": "0FrxnUnYNbS_"
      }
    },
    {
      "cell_type": "code",
      "source": [
        "data=[]\n",
        "target=[]\n",
        "Categories=['with_mask','without_mask']\n",
        "datadir='/content/drive/MyDrive/Datasets/Maskdata'\n",
        "for category in Categories:\n",
        "  print(\"loading category........\",category)\n",
        "  path=os.path.join(datadir,category)\n",
        "  #print(path)\n",
        "  images=os.listdir(path)\n",
        "  #print(images)\n",
        "  for img in images:\n",
        "    imgpath=os.path.join(path,img)\n",
        "    #print(imgpath)\n",
        "    img_array=imread(imgpath)\n",
        "    #print(img_array)\n",
        "    img_resized=resize(img_array,(150,150,3))\n",
        "    data.append(img_resized.flatten())\n",
        "    target.append(Categories.index(category))\n",
        "  print(\"Loaded category:\",category)\n",
        "print(target)\n",
        "\n",
        "\n"
      ],
      "metadata": {
        "colab": {
          "base_uri": "https://localhost:8080/"
        },
        "id": "9q8z2oH_RtxC",
        "outputId": "f30f1095-4548-4ed9-e33e-2fd3668ffc89"
      },
      "execution_count": 4,
      "outputs": [
        {
          "output_type": "stream",
          "name": "stdout",
          "text": [
            "loading category........ with_mask\n",
            "Loaded category: with_mask\n",
            "loading category........ without_mask\n",
            "Loaded category: without_mask\n",
            "[0, 0, 0, 0, 0, 0, 0, 0, 0, 0, 0, 0, 0, 0, 0, 0, 0, 0, 0, 0, 0, 0, 0, 0, 0, 0, 0, 0, 0, 0, 0, 0, 0, 0, 0, 0, 0, 0, 0, 0, 0, 0, 0, 0, 0, 0, 0, 0, 0, 0, 0, 0, 0, 0, 0, 0, 0, 0, 0, 0, 0, 0, 0, 0, 0, 0, 0, 0, 0, 0, 0, 0, 0, 0, 0, 0, 0, 0, 0, 0, 0, 0, 0, 0, 0, 0, 0, 0, 0, 0, 0, 0, 0, 0, 0, 0, 0, 0, 0, 0, 0, 0, 0, 0, 0, 0, 0, 0, 0, 0, 0, 0, 0, 0, 0, 0, 0, 0, 0, 0, 0, 0, 0, 0, 0, 0, 0, 0, 0, 0, 0, 0, 0, 0, 0, 0, 0, 0, 0, 0, 0, 0, 0, 0, 0, 0, 0, 0, 0, 0, 0, 0, 0, 0, 0, 0, 0, 0, 0, 0, 0, 0, 0, 0, 0, 0, 0, 0, 0, 0, 0, 0, 0, 0, 0, 0, 0, 0, 0, 0, 0, 0, 0, 0, 0, 0, 0, 0, 0, 0, 0, 0, 0, 0, 0, 0, 0, 0, 0, 0, 0, 0, 0, 0, 0, 0, 0, 0, 0, 0, 0, 0, 0, 0, 0, 0, 0, 0, 0, 0, 0, 0, 0, 0, 0, 0, 0, 0, 0, 0, 0, 0, 0, 0, 0, 0, 0, 0, 0, 0, 0, 0, 0, 0, 0, 0, 0, 0, 0, 0, 0, 0, 0, 0, 0, 0, 0, 0, 0, 0, 0, 0, 0, 0, 0, 0, 0, 0, 0, 0, 0, 0, 0, 0, 0, 0, 0, 0, 0, 0, 0, 0, 0, 0, 0, 0, 0, 0, 0, 0, 0, 0, 0, 0, 0, 0, 0, 0, 0, 0, 0, 0, 0, 0, 0, 0, 0, 0, 0, 0, 0, 0, 0, 0, 0, 0, 0, 0, 0, 0, 0, 0, 0, 0, 0, 0, 0, 0, 0, 0, 0, 0, 0, 0, 0, 0, 0, 0, 0, 0, 0, 0, 0, 0, 0, 0, 0, 0, 0, 0, 0, 0, 0, 0, 0, 0, 0, 0, 0, 0, 0, 0, 0, 0, 0, 0, 0, 0, 0, 0, 0, 0, 0, 0, 0, 0, 0, 0, 0, 0, 0, 0, 0, 0, 0, 0, 0, 0, 0, 0, 0, 0, 0, 0, 0, 0, 0, 0, 0, 0, 0, 0, 0, 0, 0, 0, 0, 0, 0, 0, 0, 0, 0, 0, 0, 0, 0, 0, 0, 0, 0, 0, 0, 0, 0, 0, 0, 0, 0, 0, 0, 0, 0, 0, 0, 0, 0, 0, 0, 0, 0, 0, 0, 0, 0, 0, 0, 0, 0, 0, 0, 0, 0, 0, 0, 0, 0, 0, 0, 0, 0, 0, 0, 0, 0, 0, 0, 0, 0, 0, 0, 0, 0, 0, 0, 0, 0, 0, 0, 0, 0, 0, 0, 0, 0, 0, 0, 0, 0, 0, 0, 0, 0, 0, 0, 0, 0, 0, 0, 0, 0, 0, 0, 0, 0, 0, 0, 0, 0, 0, 0, 0, 0, 0, 0, 0, 0, 0, 0, 0, 0, 0, 0, 0, 0, 0, 0, 0, 0, 0, 0, 0, 0, 0, 0, 0, 0, 0, 0, 0, 0, 0, 0, 0, 0, 0, 0, 0, 0, 0, 0, 0, 0, 0, 0, 0, 0, 0, 0, 0, 0, 0, 0, 0, 0, 0, 0, 0, 0, 0, 0, 0, 0, 0, 0, 0, 0, 0, 0, 0, 0, 0, 0, 0, 0, 0, 0, 0, 0, 0, 0, 0, 0, 0, 0, 0, 0, 0, 0, 0, 0, 0, 0, 0, 0, 0, 0, 0, 0, 0, 0, 0, 0, 0, 0, 0, 0, 0, 0, 0, 0, 0, 0, 0, 0, 0, 0, 0, 0, 0, 0, 0, 0, 0, 0, 0, 0, 0, 0, 0, 0, 0, 0, 0, 0, 0, 0, 0, 0, 0, 0, 0, 0, 0, 0, 0, 0, 0, 0, 0, 0, 0, 0, 0, 0, 0, 0, 0, 0, 0, 0, 0, 0, 0, 0, 0, 0, 0, 0, 0, 0, 0, 0, 0, 0, 0, 0, 0, 0, 0, 0, 0, 0, 0, 0, 0, 0, 0, 0, 0, 0, 0, 0, 0, 0, 0, 0, 0, 0, 0, 0, 0, 0, 0, 0, 0, 0, 0, 0, 0, 0, 0, 0, 0, 0, 0, 0, 0, 0, 0, 0, 0, 0, 0, 0, 0, 0, 0, 0, 0, 0, 0, 0, 0, 0, 0, 0, 0, 0, 0, 0, 0, 0, 0, 0, 0, 0, 0, 0, 0, 0, 0, 0, 0, 0, 0, 0, 0, 0, 0, 0, 0, 0, 0, 0, 0, 0, 0, 0, 0, 0, 0, 0, 0, 0, 0, 0, 0, 0, 0, 0, 0, 0, 0, 0, 0, 0, 0, 0, 0, 0, 0, 0, 0, 0, 0, 0, 0, 0, 0, 0, 0, 0, 0, 0, 0, 0, 0, 0, 0, 0, 0, 0, 0, 0, 0, 0, 0, 0, 0, 0, 0, 0, 0, 0, 0, 0, 0, 0, 0, 0, 0, 0, 0, 0, 0, 0, 0, 0, 0, 0, 0, 0, 0, 0, 0, 0, 0, 0, 0, 0, 0, 0, 0, 0, 0, 0, 0, 0, 0, 0, 0, 0, 0, 0, 0, 0, 0, 0, 0, 0, 0, 0, 0, 0, 0, 0, 0, 0, 0, 0, 0, 0, 0, 0, 0, 0, 0, 0, 0, 0, 0, 0, 0, 0, 0, 0, 0, 0, 0, 0, 0, 0, 0, 0, 0, 0, 0, 0, 0, 0, 0, 0, 0, 0, 0, 0, 0, 0, 0, 0, 0, 0, 0, 0, 0, 0, 0, 0, 0, 0, 0, 0, 0, 0, 0, 0, 0, 0, 0, 0, 0, 0, 0, 0, 0, 0, 0, 0, 0, 0, 0, 0, 0, 0, 0, 0, 0, 0, 0, 0, 0, 0, 0, 0, 0, 0, 0, 0, 0, 0, 0, 0, 0, 0, 0, 0, 0, 0, 0, 0, 0, 0, 0, 0, 0, 0, 0, 0, 0, 0, 0, 0, 0, 0, 0, 0, 0, 0, 0, 0, 0, 0, 0, 0, 0, 0, 0, 0, 0, 0, 0, 0, 0, 0, 0, 0, 0, 0, 0, 0, 0, 0, 0, 0, 0, 0, 0, 0, 0, 0, 0, 0, 0, 0, 0, 0, 0, 0, 0, 0, 0, 0, 0, 0, 0, 0, 0, 0, 0, 0, 0, 0, 0, 0, 0, 0, 0, 0, 0, 0, 0, 0, 0, 0, 0, 0, 0, 0, 0, 0, 0, 0, 0, 0, 0, 0, 0, 0, 0, 0, 0, 0, 0, 0, 0, 0, 0, 0, 0, 0, 0, 0, 0, 0, 0, 0, 0, 0, 0, 0, 0, 0, 0, 0, 0, 0, 0, 0, 0, 0, 0, 0, 0, 0, 0, 0, 0, 0, 0, 0, 0, 0, 0, 0, 0, 0, 0, 0, 0, 0, 0, 0, 0, 0, 0, 0, 0, 0, 0, 0, 0, 0, 0, 0, 0, 0, 0, 0, 0, 0, 0, 0, 0, 0, 0, 0, 0, 0, 0, 0, 0, 0, 0, 0, 0, 0, 0, 0, 0, 0, 0, 0, 0, 0, 0, 0, 0, 0, 0, 0, 0, 0, 0, 0, 0, 0, 0, 0, 0, 0, 0, 0, 0, 0, 0, 0, 0, 0, 0, 0, 0, 0, 0, 0, 0, 0, 0, 0, 0, 0, 0, 0, 0, 0, 0, 0, 0, 0, 0, 0, 0, 0, 0, 0, 0, 0, 0, 0, 0, 0, 0, 0, 0, 0, 0, 0, 0, 0, 0, 0, 0, 0, 0, 0, 0, 0, 0, 0, 0, 0, 0, 0, 0, 0, 0, 0, 0, 0, 0, 0, 0, 0, 0, 0, 0, 0, 0, 0, 0, 0, 0, 0, 0, 0, 0, 0, 0, 0, 0, 0, 0, 0, 0, 0, 0, 0, 0, 0, 0, 0, 0, 0, 0, 0, 0, 0, 0, 0, 0, 0, 0, 0, 0, 0, 0, 0, 0, 0, 0, 0, 0, 0, 0, 0, 0, 0, 0, 0, 0, 0, 0, 0, 0, 0, 0, 0, 0, 0, 0, 0, 0, 0, 0, 0, 0, 0, 0, 0, 0, 0, 0, 0, 0, 0, 0, 0, 0, 0, 0, 0, 0, 0, 0, 0, 0, 0, 0, 0, 0, 0, 0, 0, 0, 0, 0, 0, 0, 0, 0, 0, 0, 0, 0, 0, 0, 0, 0, 0, 0, 0, 0, 0, 0, 0, 0, 0, 0, 0, 0, 0, 0, 0, 0, 0, 0, 0, 0, 0, 0, 0, 0, 0, 0, 0, 0, 0, 0, 0, 0, 0, 0, 0, 0, 0, 0, 0, 0, 0, 0, 0, 0, 1, 1, 1, 1, 1, 1, 1, 1, 1, 1, 1, 1, 1, 1, 1, 1, 1, 1, 1, 1, 1, 1, 1, 1, 1, 1, 1, 1, 1, 1, 1, 1, 1, 1, 1, 1, 1, 1, 1, 1, 1, 1, 1, 1, 1, 1, 1, 1, 1, 1, 1, 1, 1, 1, 1, 1, 1, 1, 1, 1, 1, 1, 1, 1, 1, 1, 1, 1, 1, 1, 1, 1, 1, 1, 1, 1, 1, 1, 1, 1, 1, 1, 1, 1, 1, 1, 1, 1, 1, 1, 1, 1, 1, 1, 1, 1, 1, 1, 1, 1, 1, 1, 1, 1, 1, 1, 1, 1, 1, 1, 1, 1, 1, 1, 1, 1, 1, 1, 1, 1, 1, 1, 1, 1, 1, 1, 1, 1, 1, 1, 1, 1, 1, 1, 1, 1, 1, 1, 1, 1, 1, 1, 1, 1, 1, 1, 1, 1, 1, 1, 1, 1, 1, 1, 1, 1, 1, 1, 1, 1, 1, 1, 1, 1, 1, 1, 1, 1, 1, 1, 1, 1, 1, 1, 1, 1, 1, 1, 1, 1, 1, 1, 1, 1, 1, 1, 1, 1, 1, 1, 1, 1, 1, 1, 1, 1, 1, 1, 1, 1, 1, 1, 1, 1, 1, 1, 1, 1, 1, 1, 1, 1, 1, 1, 1, 1, 1, 1, 1, 1, 1, 1, 1, 1, 1, 1, 1, 1, 1, 1, 1, 1, 1, 1, 1, 1, 1, 1, 1, 1, 1, 1, 1, 1, 1, 1, 1, 1, 1, 1, 1, 1, 1, 1, 1, 1, 1, 1, 1, 1, 1, 1, 1, 1, 1, 1, 1, 1, 1, 1, 1, 1, 1, 1, 1, 1, 1, 1, 1, 1, 1, 1, 1, 1, 1, 1, 1, 1, 1, 1, 1, 1, 1, 1, 1, 1, 1, 1, 1, 1, 1, 1, 1, 1, 1, 1, 1, 1, 1, 1, 1, 1, 1, 1, 1, 1, 1, 1, 1, 1, 1, 1, 1, 1, 1, 1, 1, 1, 1, 1, 1, 1, 1, 1, 1, 1, 1, 1, 1, 1, 1, 1, 1, 1, 1, 1, 1, 1, 1, 1, 1, 1, 1, 1, 1, 1, 1, 1, 1, 1, 1, 1, 1, 1, 1, 1, 1, 1, 1, 1, 1, 1, 1, 1, 1, 1, 1, 1, 1, 1, 1, 1, 1, 1, 1, 1, 1, 1, 1, 1, 1, 1, 1, 1, 1, 1, 1, 1, 1, 1, 1, 1, 1, 1, 1, 1, 1, 1, 1, 1, 1, 1, 1, 1, 1, 1, 1, 1, 1, 1, 1, 1, 1, 1, 1, 1, 1, 1, 1, 1, 1, 1, 1, 1, 1, 1, 1, 1, 1, 1, 1, 1, 1, 1, 1, 1, 1, 1, 1, 1, 1, 1, 1, 1, 1, 1, 1, 1, 1, 1, 1, 1, 1, 1, 1, 1, 1, 1, 1, 1, 1, 1, 1, 1, 1, 1, 1, 1, 1, 1, 1, 1, 1, 1, 1, 1, 1, 1, 1, 1, 1, 1, 1, 1, 1, 1, 1, 1, 1, 1, 1, 1, 1, 1, 1, 1, 1, 1, 1, 1, 1, 1, 1, 1, 1, 1, 1, 1, 1, 1, 1, 1, 1, 1, 1, 1, 1, 1, 1, 1, 1, 1, 1, 1, 1, 1, 1, 1, 1, 1, 1, 1, 1, 1, 1, 1, 1, 1, 1, 1, 1, 1, 1, 1, 1, 1, 1, 1, 1, 1, 1, 1, 1, 1, 1, 1, 1, 1, 1, 1, 1, 1, 1, 1, 1, 1, 1, 1, 1, 1, 1, 1, 1, 1, 1, 1, 1, 1, 1, 1, 1, 1, 1, 1, 1, 1, 1, 1, 1, 1, 1, 1, 1, 1, 1, 1, 1, 1, 1, 1, 1, 1, 1, 1, 1, 1, 1, 1, 1, 1, 1, 1, 1, 1, 1, 1, 1, 1, 1, 1, 1, 1, 1, 1, 1, 1, 1, 1, 1, 1, 1, 1, 1, 1, 1, 1, 1, 1, 1, 1, 1, 1, 1, 1, 1, 1, 1, 1, 1, 1, 1, 1, 1, 1, 1, 1, 1, 1, 1, 1, 1, 1, 1, 1, 1, 1, 1, 1, 1, 1, 1, 1, 1, 1, 1, 1, 1, 1, 1, 1, 1, 1, 1, 1, 1, 1, 1, 1, 1, 1, 1, 1, 1, 1, 1, 1, 1, 1, 1, 1, 1, 1, 1, 1, 1, 1, 1, 1, 1, 1, 1, 1, 1, 1, 1, 1, 1, 1, 1, 1, 1, 1, 1, 1, 1, 1, 1, 1, 1, 1, 1, 1, 1, 1, 1, 1, 1, 1, 1, 1, 1, 1, 1, 1, 1, 1, 1, 1, 1, 1, 1, 1, 1, 1, 1, 1, 1, 1, 1, 1, 1, 1, 1, 1, 1, 1, 1, 1, 1, 1, 1, 1, 1, 1, 1, 1, 1, 1, 1, 1, 1, 1, 1, 1, 1, 1, 1, 1, 1, 1, 1, 1, 1, 1, 1, 1, 1, 1, 1, 1, 1, 1, 1, 1, 1, 1, 1, 1, 1, 1, 1, 1, 1, 1, 1, 1, 1, 1, 1, 1, 1, 1, 1, 1, 1, 1, 1, 1, 1, 1, 1, 1, 1, 1, 1, 1, 1, 1, 1, 1, 1, 1, 1, 1, 1, 1, 1, 1, 1, 1, 1, 1, 1, 1, 1, 1, 1, 1, 1, 1, 1, 1, 1, 1, 1, 1, 1, 1, 1, 1, 1, 1, 1, 1, 1, 1, 1, 1, 1, 1, 1, 1, 1, 1, 1, 1, 1, 1, 1, 1, 1, 1, 1, 1, 1, 1, 1, 1, 1, 1, 1, 1, 1, 1, 1, 1, 1, 1, 1, 1, 1, 1, 1, 1, 1, 1, 1, 1, 1, 1, 1, 1, 1, 1, 1, 1, 1, 1, 1, 1, 1, 1, 1, 1, 1, 1, 1, 1, 1, 1, 1, 1, 1, 1, 1, 1, 1, 1, 1, 1, 1, 1, 1, 1, 1, 1, 1, 1, 1, 1, 1, 1, 1, 1, 1, 1, 1, 1, 1, 1, 1, 1, 1, 1, 1, 1, 1, 1, 1, 1, 1, 1, 1, 1, 1, 1, 1, 1, 1, 1, 1, 1, 1, 1, 1, 1, 1, 1, 1, 1, 1, 1, 1, 1, 1, 1, 1, 1, 1, 1, 1, 1, 1, 1, 1, 1, 1, 1, 1, 1, 1, 1, 1, 1, 1, 1, 1, 1, 1, 1, 1, 1, 1, 1, 1, 1, 1, 1, 1, 1, 1, 1, 1, 1, 1, 1, 1, 1, 1, 1, 1, 1, 1, 1, 1, 1, 1, 1, 1, 1, 1, 1, 1, 1, 1, 1, 1, 1, 1, 1, 1, 1, 1, 1, 1, 1, 1, 1, 1, 1, 1, 1, 1, 1, 1, 1, 1, 1, 1, 1, 1, 1, 1, 1, 1, 1, 1, 1, 1, 1, 1, 1, 1, 1, 1, 1, 1, 1, 1, 1, 1, 1, 1, 1, 1, 1, 1, 1, 1, 1, 1, 1, 1, 1, 1, 1, 1, 1, 1, 1, 1, 1, 1, 1, 1, 1, 1, 1, 1, 1, 1, 1, 1, 1, 1, 1, 1, 1, 1, 1, 1, 1, 1, 1, 1, 1, 1, 1, 1, 1, 1, 1, 1, 1, 1, 1, 1, 1, 1, 1, 1, 1, 1, 1, 1, 1, 1, 1, 1, 1, 1, 1, 1, 1, 1, 1, 1, 1, 1, 1, 1, 1, 1, 1, 1, 1, 1, 1, 1, 1, 1, 1, 1, 1, 1, 1, 1, 1, 1, 1, 1, 1, 1, 1, 1, 1, 1, 1, 1, 1, 1, 1, 1, 1, 1, 1, 1, 1, 1, 1, 1, 1, 1, 1, 1, 1, 1, 1, 1, 1, 1, 1, 1, 1, 1, 1, 1, 1, 1, 1, 1, 1, 1, 1, 1, 1, 1, 1, 1, 1, 1, 1, 1, 1, 1, 1, 1, 1, 1, 1, 1, 1, 1, 1, 1, 1, 1, 1, 1, 1, 1, 1, 1, 1, 1, 1, 1, 1, 1, 1, 1, 1, 1, 1, 1, 1, 1, 1, 1, 1, 1, 1, 1, 1, 1, 1, 1, 1, 1, 1, 1, 1, 1, 1, 1, 1, 1, 1, 1, 1, 1, 1, 1, 1, 1, 1, 1, 1, 1, 1, 1, 1, 1, 1, 1, 1, 1, 1, 1, 1, 1, 1, 1, 1, 1, 1, 1, 1, 1, 1, 1, 1, 1, 1, 1, 1, 1, 1, 1, 1, 1, 1, 1, 1, 1, 1, 1, 1, 1, 1, 1, 1, 1, 1, 1, 1, 1, 1, 1, 1, 1, 1, 1, 1, 1, 1, 1, 1, 1, 1, 1, 1, 1, 1, 1, 1, 1, 1, 1, 1, 1, 1, 1, 1, 1, 1, 1, 1, 1, 1, 1, 1, 1, 1, 1, 1, 1, 1, 1, 1, 1, 1, 1, 1, 1, 1, 1, 1, 1, 1, 1, 1, 1, 1, 1, 1, 1, 1, 1, 1, 1, 1, 1, 1, 1, 1, 1, 1, 1, 1, 1, 1, 1, 1, 1, 1, 1, 1, 1, 1, 1, 1, 1, 1, 1, 1, 1, 1, 1, 1, 1, 1, 1, 1, 1, 1, 1, 1, 1, 1, 1, 1, 1, 1, 1, 1, 1, 1, 1, 1, 1, 1, 1, 1, 1, 1, 1, 1, 1, 1, 1, 1, 1, 1, 1, 1, 1, 1, 1, 1, 1, 1, 1, 1, 1, 1, 1, 1, 1, 1, 1, 1, 1, 1, 1, 1, 1, 1, 1, 1, 1, 1, 1, 1, 1, 1, 1, 1, 1, 1, 1, 1, 1, 1, 1, 1, 1, 1, 1, 1, 1, 1, 1, 1, 1, 1, 1, 1, 1, 1, 1, 1, 1, 1, 1, 1, 1, 1, 1, 1, 1, 1, 1, 1, 1, 1, 1, 1, 1, 1, 1, 1, 1, 1, 1, 1, 1, 1, 1, 1, 1, 1, 1, 1, 1, 1, 1, 1, 1, 1, 1, 1, 1, 1, 1, 1, 1, 1, 1, 1, 1, 1, 1, 1, 1, 1, 1, 1, 1, 1, 1, 1, 1, 1, 1, 1, 1, 1, 1, 1, 1, 1, 1, 1, 1, 1, 1, 1, 1, 1, 1, 1, 1, 1, 1, 1, 1, 1, 1, 1, 1, 1, 1, 1, 1, 1, 1, 1, 1, 1, 1, 1, 1, 1, 1, 1, 1, 1, 1, 1, 1, 1, 1, 1, 1, 1, 1, 1, 1, 1, 1, 1, 1, 1, 1, 1, 1, 1, 1, 1, 1, 1, 1, 1, 1, 1, 1, 1, 1, 1, 1, 1, 1, 1, 1, 1, 1, 1]\n"
          ]
        }
      ]
    },
    {
      "cell_type": "markdown",
      "source": [
        "**Convert list to array**"
      ],
      "metadata": {
        "id": "Y03yZplFNrsD"
      }
    },
    {
      "cell_type": "code",
      "source": [
        "X=np.array(data)\n",
        "X"
      ],
      "metadata": {
        "colab": {
          "base_uri": "https://localhost:8080/"
        },
        "id": "lm6iV4NeTlBl",
        "outputId": "4d133c0a-b96f-4b37-c89f-77b56f14a11d"
      },
      "execution_count": 5,
      "outputs": [
        {
          "output_type": "execute_result",
          "data": {
            "text/plain": [
              "array([[0.96862745, 0.97254902, 0.98039216, ..., 0.96862745, 0.97254902,\n",
              "        0.98039216],\n",
              "       [0.99607843, 0.99607843, 0.99607843, ..., 0.07450979, 0.07058823,\n",
              "        0.09411764],\n",
              "       [0.52156863, 0.62745098, 0.65490196, ..., 0.07133944, 0.08409199,\n",
              "        0.10171471],\n",
              "       ...,\n",
              "       [0.31013333, 0.2395451 , 0.22385882, ..., 0.28454902, 0.22572549,\n",
              "        0.20611765],\n",
              "       [0.81147543, 0.81931857, 0.79971073, ..., 0.58358142, 0.24742449,\n",
              "        0.2823526 ],\n",
              "       [0.53004837, 0.52202222, 0.44003529, ..., 0.84786928, 0.57728105,\n",
              "        0.41643137]])"
            ]
          },
          "metadata": {},
          "execution_count": 5
        }
      ]
    },
    {
      "cell_type": "code",
      "source": [
        "y=np.array(target)\n",
        "y"
      ],
      "metadata": {
        "id": "Wh53Ni4tToeZ",
        "colab": {
          "base_uri": "https://localhost:8080/"
        },
        "outputId": "475b2fb5-bc9f-4df0-9b66-62b27d8065b8"
      },
      "execution_count": 6,
      "outputs": [
        {
          "output_type": "execute_result",
          "data": {
            "text/plain": [
              "array([0, 0, 0, ..., 1, 1, 1])"
            ]
          },
          "metadata": {},
          "execution_count": 6
        }
      ]
    },
    {
      "cell_type": "markdown",
      "source": [
        "**Split data into training and testing dataset**"
      ],
      "metadata": {
        "id": "qv4kZpR_Ny6p"
      }
    },
    {
      "cell_type": "code",
      "source": [
        "X_train,X_test,y_train,y_test=train_test_split(X,y,random_state=1,test_size=0.3)"
      ],
      "metadata": {
        "id": "cv7u9CdGTrsH"
      },
      "execution_count": 7,
      "outputs": []
    },
    {
      "cell_type": "code",
      "source": [
        "X_train.shape,y_train.shape"
      ],
      "metadata": {
        "colab": {
          "base_uri": "https://localhost:8080/"
        },
        "id": "tKdYV01yTu6l",
        "outputId": "af0c38cc-489c-44f1-ddcc-061268dea9e4"
      },
      "execution_count": 8,
      "outputs": [
        {
          "output_type": "execute_result",
          "data": {
            "text/plain": [
              "((2205, 67500), (2205,))"
            ]
          },
          "metadata": {},
          "execution_count": 8
        }
      ]
    },
    {
      "cell_type": "markdown",
      "source": [
        "**Model creation : SVC**"
      ],
      "metadata": {
        "id": "7RoEcZ0xOCkq"
      }
    },
    {
      "cell_type": "code",
      "source": [
        "sv=SVC(random_state=1)\n",
        "sv.fit(X_train,y_train)"
      ],
      "metadata": {
        "id": "MKhzW30ETyiG",
        "colab": {
          "base_uri": "https://localhost:8080/",
          "height": 74
        },
        "outputId": "2c643ff8-7411-4d3f-80ea-f130c9cbc8d8"
      },
      "execution_count": 9,
      "outputs": [
        {
          "output_type": "execute_result",
          "data": {
            "text/plain": [
              "SVC(random_state=1)"
            ],
            "text/html": [
              "<style>#sk-container-id-1 {color: black;background-color: white;}#sk-container-id-1 pre{padding: 0;}#sk-container-id-1 div.sk-toggleable {background-color: white;}#sk-container-id-1 label.sk-toggleable__label {cursor: pointer;display: block;width: 100%;margin-bottom: 0;padding: 0.3em;box-sizing: border-box;text-align: center;}#sk-container-id-1 label.sk-toggleable__label-arrow:before {content: \"▸\";float: left;margin-right: 0.25em;color: #696969;}#sk-container-id-1 label.sk-toggleable__label-arrow:hover:before {color: black;}#sk-container-id-1 div.sk-estimator:hover label.sk-toggleable__label-arrow:before {color: black;}#sk-container-id-1 div.sk-toggleable__content {max-height: 0;max-width: 0;overflow: hidden;text-align: left;background-color: #f0f8ff;}#sk-container-id-1 div.sk-toggleable__content pre {margin: 0.2em;color: black;border-radius: 0.25em;background-color: #f0f8ff;}#sk-container-id-1 input.sk-toggleable__control:checked~div.sk-toggleable__content {max-height: 200px;max-width: 100%;overflow: auto;}#sk-container-id-1 input.sk-toggleable__control:checked~label.sk-toggleable__label-arrow:before {content: \"▾\";}#sk-container-id-1 div.sk-estimator input.sk-toggleable__control:checked~label.sk-toggleable__label {background-color: #d4ebff;}#sk-container-id-1 div.sk-label input.sk-toggleable__control:checked~label.sk-toggleable__label {background-color: #d4ebff;}#sk-container-id-1 input.sk-hidden--visually {border: 0;clip: rect(1px 1px 1px 1px);clip: rect(1px, 1px, 1px, 1px);height: 1px;margin: -1px;overflow: hidden;padding: 0;position: absolute;width: 1px;}#sk-container-id-1 div.sk-estimator {font-family: monospace;background-color: #f0f8ff;border: 1px dotted black;border-radius: 0.25em;box-sizing: border-box;margin-bottom: 0.5em;}#sk-container-id-1 div.sk-estimator:hover {background-color: #d4ebff;}#sk-container-id-1 div.sk-parallel-item::after {content: \"\";width: 100%;border-bottom: 1px solid gray;flex-grow: 1;}#sk-container-id-1 div.sk-label:hover label.sk-toggleable__label {background-color: #d4ebff;}#sk-container-id-1 div.sk-serial::before {content: \"\";position: absolute;border-left: 1px solid gray;box-sizing: border-box;top: 0;bottom: 0;left: 50%;z-index: 0;}#sk-container-id-1 div.sk-serial {display: flex;flex-direction: column;align-items: center;background-color: white;padding-right: 0.2em;padding-left: 0.2em;position: relative;}#sk-container-id-1 div.sk-item {position: relative;z-index: 1;}#sk-container-id-1 div.sk-parallel {display: flex;align-items: stretch;justify-content: center;background-color: white;position: relative;}#sk-container-id-1 div.sk-item::before, #sk-container-id-1 div.sk-parallel-item::before {content: \"\";position: absolute;border-left: 1px solid gray;box-sizing: border-box;top: 0;bottom: 0;left: 50%;z-index: -1;}#sk-container-id-1 div.sk-parallel-item {display: flex;flex-direction: column;z-index: 1;position: relative;background-color: white;}#sk-container-id-1 div.sk-parallel-item:first-child::after {align-self: flex-end;width: 50%;}#sk-container-id-1 div.sk-parallel-item:last-child::after {align-self: flex-start;width: 50%;}#sk-container-id-1 div.sk-parallel-item:only-child::after {width: 0;}#sk-container-id-1 div.sk-dashed-wrapped {border: 1px dashed gray;margin: 0 0.4em 0.5em 0.4em;box-sizing: border-box;padding-bottom: 0.4em;background-color: white;}#sk-container-id-1 div.sk-label label {font-family: monospace;font-weight: bold;display: inline-block;line-height: 1.2em;}#sk-container-id-1 div.sk-label-container {text-align: center;}#sk-container-id-1 div.sk-container {/* jupyter's `normalize.less` sets `[hidden] { display: none; }` but bootstrap.min.css set `[hidden] { display: none !important; }` so we also need the `!important` here to be able to override the default hidden behavior on the sphinx rendered scikit-learn.org. See: https://github.com/scikit-learn/scikit-learn/issues/21755 */display: inline-block !important;position: relative;}#sk-container-id-1 div.sk-text-repr-fallback {display: none;}</style><div id=\"sk-container-id-1\" class=\"sk-top-container\"><div class=\"sk-text-repr-fallback\"><pre>SVC(random_state=1)</pre><b>In a Jupyter environment, please rerun this cell to show the HTML representation or trust the notebook. <br />On GitHub, the HTML representation is unable to render, please try loading this page with nbviewer.org.</b></div><div class=\"sk-container\" hidden><div class=\"sk-item\"><div class=\"sk-estimator sk-toggleable\"><input class=\"sk-toggleable__control sk-hidden--visually\" id=\"sk-estimator-id-1\" type=\"checkbox\" checked><label for=\"sk-estimator-id-1\" class=\"sk-toggleable__label sk-toggleable__label-arrow\">SVC</label><div class=\"sk-toggleable__content\"><pre>SVC(random_state=1)</pre></div></div></div></div></div>"
            ]
          },
          "metadata": {},
          "execution_count": 9
        }
      ]
    },
    {
      "cell_type": "code",
      "source": [
        "y_pred=sv.predict(X_test)\n",
        "y_pred"
      ],
      "metadata": {
        "colab": {
          "base_uri": "https://localhost:8080/"
        },
        "id": "z8NcroyzxF8y",
        "outputId": "c1c64a7c-d23c-4ceb-e335-77475358fa76"
      },
      "execution_count": 10,
      "outputs": [
        {
          "output_type": "execute_result",
          "data": {
            "text/plain": [
              "array([1, 0, 0, 0, 1, 1, 1, 1, 0, 0, 0, 1, 0, 1, 0, 0, 0, 1, 0, 1, 1, 1,\n",
              "       0, 1, 0, 1, 0, 0, 0, 0, 0, 1, 1, 0, 0, 0, 1, 0, 0, 0, 0, 1, 1, 0,\n",
              "       0, 0, 0, 0, 0, 0, 0, 1, 0, 0, 1, 0, 0, 0, 1, 0, 0, 1, 0, 1, 0, 1,\n",
              "       1, 1, 1, 1, 0, 1, 1, 1, 0, 1, 0, 1, 0, 1, 1, 0, 1, 0, 0, 1, 1, 1,\n",
              "       1, 0, 1, 1, 0, 1, 0, 0, 1, 1, 0, 1, 1, 1, 0, 1, 0, 1, 0, 1, 0, 1,\n",
              "       0, 1, 1, 1, 1, 1, 1, 0, 0, 0, 0, 0, 0, 0, 1, 1, 1, 0, 1, 1, 0, 0,\n",
              "       0, 1, 1, 0, 1, 0, 0, 1, 1, 0, 1, 1, 1, 0, 1, 0, 0, 1, 0, 1, 0, 1,\n",
              "       0, 0, 1, 0, 0, 0, 1, 1, 1, 1, 0, 0, 1, 1, 1, 1, 0, 0, 0, 0, 1, 1,\n",
              "       1, 0, 1, 1, 0, 1, 1, 1, 0, 1, 0, 1, 1, 1, 0, 1, 0, 1, 0, 1, 1, 0,\n",
              "       0, 0, 0, 0, 0, 0, 1, 0, 1, 0, 1, 0, 1, 1, 1, 1, 0, 0, 1, 0, 1, 1,\n",
              "       1, 1, 1, 0, 1, 0, 1, 0, 1, 1, 1, 0, 0, 1, 1, 0, 0, 1, 1, 1, 0, 1,\n",
              "       0, 0, 0, 0, 0, 1, 1, 0, 1, 1, 1, 0, 0, 1, 0, 1, 1, 0, 1, 0, 0, 0,\n",
              "       1, 1, 0, 0, 0, 1, 1, 0, 0, 1, 1, 1, 0, 1, 0, 1, 0, 1, 1, 1, 0, 0,\n",
              "       0, 1, 0, 0, 1, 1, 0, 0, 0, 0, 0, 1, 0, 1, 0, 1, 1, 0, 1, 0, 1, 1,\n",
              "       0, 1, 0, 1, 0, 0, 1, 0, 1, 0, 0, 0, 0, 1, 1, 0, 1, 0, 0, 0, 0, 0,\n",
              "       0, 1, 0, 1, 1, 0, 0, 1, 0, 0, 1, 1, 0, 1, 1, 0, 1, 0, 1, 1, 1, 0,\n",
              "       1, 0, 1, 1, 0, 0, 0, 1, 1, 0, 1, 1, 1, 1, 1, 0, 0, 1, 1, 0, 0, 0,\n",
              "       0, 1, 0, 1, 1, 0, 0, 0, 1, 1, 1, 0, 0, 1, 1, 0, 0, 1, 1, 1, 0, 1,\n",
              "       1, 1, 1, 0, 0, 1, 1, 1, 0, 1, 1, 1, 1, 0, 1, 1, 0, 1, 1, 1, 0, 1,\n",
              "       0, 0, 1, 1, 0, 0, 0, 0, 0, 1, 0, 0, 0, 0, 1, 0, 0, 0, 0, 1, 1, 1,\n",
              "       1, 1, 1, 0, 1, 1, 1, 0, 0, 1, 0, 1, 1, 1, 0, 1, 1, 1, 1, 0, 1, 0,\n",
              "       1, 0, 0, 0, 0, 0, 1, 1, 1, 1, 0, 1, 1, 0, 0, 1, 1, 1, 1, 0, 1, 0,\n",
              "       0, 0, 1, 1, 1, 0, 0, 1, 0, 0, 1, 1, 1, 1, 1, 0, 0, 1, 1, 1, 1, 1,\n",
              "       1, 0, 1, 1, 1, 1, 0, 1, 0, 0, 0, 0, 1, 0, 0, 0, 0, 0, 0, 1, 1, 1,\n",
              "       1, 1, 0, 1, 1, 1, 1, 0, 0, 1, 0, 0, 1, 0, 0, 0, 1, 0, 1, 0, 1, 1,\n",
              "       1, 0, 1, 1, 1, 0, 1, 1, 1, 1, 0, 0, 0, 0, 0, 0, 0, 1, 1, 1, 1, 1,\n",
              "       1, 0, 0, 1, 1, 1, 0, 1, 1, 1, 1, 1, 0, 0, 0, 1, 1, 0, 0, 1, 0, 1,\n",
              "       1, 1, 0, 1, 1, 0, 1, 0, 0, 0, 1, 1, 0, 1, 1, 1, 0, 1, 1, 1, 0, 1,\n",
              "       0, 1, 0, 1, 1, 0, 1, 1, 0, 0, 0, 0, 0, 1, 1, 0, 0, 1, 0, 1, 0, 0,\n",
              "       1, 1, 1, 0, 0, 1, 0, 0, 1, 1, 1, 1, 1, 1, 1, 1, 0, 1, 0, 0, 1, 1,\n",
              "       1, 0, 1, 1, 1, 1, 0, 1, 1, 0, 0, 0, 1, 1, 0, 1, 1, 1, 1, 1, 0, 0,\n",
              "       1, 1, 1, 0, 0, 0, 1, 1, 1, 1, 0, 1, 0, 0, 1, 0, 1, 1, 1, 0, 0, 0,\n",
              "       0, 0, 1, 1, 1, 1, 1, 1, 0, 0, 0, 0, 0, 0, 1, 1, 1, 0, 0, 0, 1, 0,\n",
              "       0, 1, 0, 1, 0, 1, 1, 1, 0, 0, 1, 1, 0, 0, 1, 1, 1, 0, 1, 0, 1, 1,\n",
              "       1, 0, 1, 1, 1, 0, 0, 0, 0, 0, 1, 1, 0, 0, 0, 1, 0, 1, 0, 0, 1, 1,\n",
              "       1, 1, 1, 0, 0, 1, 0, 0, 1, 0, 0, 0, 0, 0, 1, 0, 0, 0, 0, 0, 0, 1,\n",
              "       1, 0, 1, 0, 0, 1, 1, 1, 0, 0, 1, 0, 1, 1, 0, 1, 0, 1, 1, 0, 0, 1,\n",
              "       1, 1, 0, 1, 1, 0, 0, 1, 0, 0, 0, 0, 1, 1, 0, 0, 0, 0, 0, 0, 0, 1,\n",
              "       1, 1, 0, 1, 1, 0, 1, 1, 0, 0, 1, 0, 1, 1, 1, 0, 1, 1, 1, 0, 0, 1,\n",
              "       1, 0, 1, 1, 1, 0, 1, 1, 1, 0, 1, 1, 1, 0, 0, 1, 0, 1, 1, 0, 1, 0,\n",
              "       0, 0, 1, 1, 0, 1, 1, 1, 1, 0, 1, 0, 1, 0, 0, 1, 1, 0, 1, 0, 1, 0,\n",
              "       0, 1, 0, 0, 0, 1, 1, 0, 0, 0, 1, 1, 0, 0, 1, 1, 0, 0, 1, 0, 1, 0,\n",
              "       0, 1, 0, 0, 1, 0, 1, 0, 0, 0, 1, 0, 0, 0, 0, 0, 1, 0, 1, 1, 0])"
            ]
          },
          "metadata": {},
          "execution_count": 10
        }
      ]
    },
    {
      "cell_type": "markdown",
      "source": [
        "**Performance Evaluvation**"
      ],
      "metadata": {
        "id": "VAjcHF0vOJwP"
      }
    },
    {
      "cell_type": "code",
      "source": [
        "print(classification_report(y_test,y_pred))\n",
        "print(ConfusionMatrixDisplay.from_predictions(y_test,y_pred))"
      ],
      "metadata": {
        "colab": {
          "base_uri": "https://localhost:8080/",
          "height": 623
        },
        "id": "cF3DPZh2xOMg",
        "outputId": "5deaa4e0-2f1b-4c81-eeab-8b4212d1f949"
      },
      "execution_count": 11,
      "outputs": [
        {
          "output_type": "stream",
          "name": "stdout",
          "text": [
            "              precision    recall  f1-score   support\n",
            "\n",
            "           0       0.89      0.90      0.89       449\n",
            "           1       0.91      0.90      0.90       496\n",
            "\n",
            "    accuracy                           0.90       945\n",
            "   macro avg       0.90      0.90      0.90       945\n",
            "weighted avg       0.90      0.90      0.90       945\n",
            "\n",
            "<sklearn.metrics._plot.confusion_matrix.ConfusionMatrixDisplay object at 0x7e4d424e3790>\n"
          ]
        },
        {
          "output_type": "display_data",
          "data": {
            "text/plain": [
              "<Figure size 640x480 with 2 Axes>"
            ],
            "image/png": "[encoded data removed]"
          },
          "metadata": {}
        }
      ]
    },
    {
      "cell_type": "markdown",
      "source": [
        "**Read a new image**"
      ],
      "metadata": {
        "id": "ZuPKAUZjOOcn"
      }
    },
    {
      "cell_type": "code",
      "source": [
        "path1='/content/drive/MyDrive/Datasets/Maskdata/mask.jpg'\n",
        "img=imread(path1)\n",
        "img"
      ],
      "metadata": {
        "colab": {
          "base_uri": "https://localhost:8080/",
          "height": 320
        },
        "id": "xuhcL8oz0eHP",
        "outputId": "4d42d88a-d438-42b9-9f47-65a946f716e1"
      },
      "execution_count": 12,
      "outputs": [
        {
          "output_type": "execute_result",
          "data": {
            "text/plain": [
              "array([[[164, 179, 199],\n",
              "        [164, 179, 199],\n",
              "        [164, 179, 199],\n",
              "        ...,\n",
              "        [191, 202, 218],\n",
              "        [190, 200, 217],\n",
              "        [190, 200, 217]],\n",
              "\n",
              "       [[164, 179, 199],\n",
              "        [164, 179, 199],\n",
              "        [164, 179, 199],\n",
              "        ...,\n",
              "        [191, 202, 218],\n",
              "        [190, 200, 217],\n",
              "        [190, 200, 217]],\n",
              "\n",
              "       [[164, 179, 199],\n",
              "        [164, 179, 199],\n",
              "        [164, 179, 199],\n",
              "        ...,\n",
              "        [191, 202, 218],\n",
              "        [190, 200, 217],\n",
              "        [190, 200, 217]],\n",
              "\n",
              "       ...,\n",
              "\n",
              "       [[  0,   0,   0],\n",
              "        [254, 254, 254],\n",
              "        [254, 254, 254],\n",
              "        ...,\n",
              "        [255, 255, 255],\n",
              "        [255, 255, 255],\n",
              "        [255, 255, 255]],\n",
              "\n",
              "       [[  0,   0,   0],\n",
              "        [254, 254, 254],\n",
              "        [254, 254, 254],\n",
              "        ...,\n",
              "        [255, 255, 255],\n",
              "        [255, 255, 255],\n",
              "        [255, 255, 255]],\n",
              "\n",
              "       [[  0,   0,   0],\n",
              "        [254, 254, 254],\n",
              "        [254, 254, 254],\n",
              "        ...,\n",
              "        [255, 255, 255],\n",
              "        [255, 255, 255],\n",
              "        [255, 255, 255]]], dtype=uint8)"
            ],
            "text/html": [
              "<style>\n",
              "      .ndarray_repr .ndarray_raw_data {\n",
              "        display: none;\n",
              "      }\n",
              "      .ndarray_repr.show_array .ndarray_raw_data {\n",
              "        display: block;\n",
              "      }\n",
              "      .ndarray_repr.show_array .ndarray_image_preview {\n",
              "        display: none;\n",
              "      }\n",
              "      </style>\n",
              "      <div id=\"id-1deafc0a-9584-4635-ba03-5c4a9fe737d2\" class=\"ndarray_repr\"><pre>ndarray (280, 390, 3) <button style=\"padding: 0 2px;\">show data</button></pre><img src=\"data:image/png;base64,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\" class=\"ndarray_image_preview\" /><pre class=\"ndarray_raw_data\">array([[[164, 179, 199],\n",
              "        [164, 179, 199],\n",
              "        [164, 179, 199],\n",
              "        ...,\n",
              "        [191, 202, 218],\n",
              "        [190, 200, 217],\n",
              "        [190, 200, 217]],\n",
              "\n",
              "       [[164, 179, 199],\n",
              "        [164, 179, 199],\n",
              "        [164, 179, 199],\n",
              "        ...,\n",
              "        [191, 202, 218],\n",
              "        [190, 200, 217],\n",
              "        [190, 200, 217]],\n",
              "\n",
              "       [[164, 179, 199],\n",
              "        [164, 179, 199],\n",
              "        [164, 179, 199],\n",
              "        ...,\n",
              "        [191, 202, 218],\n",
              "        [190, 200, 217],\n",
              "        [190, 200, 217]],\n",
              "\n",
              "       ...,\n",
              "\n",
              "       [[  0,   0,   0],\n",
              "        [254, 254, 254],\n",
              "        [254, 254, 254],\n",
              "        ...,\n",
              "        [255, 255, 255],\n",
              "        [255, 255, 255],\n",
              "        [255, 255, 255]],\n",
              "\n",
              "       [[  0,   0,   0],\n",
              "        [254, 254, 254],\n",
              "        [254, 254, 254],\n",
              "        ...,\n",
              "        [255, 255, 255],\n",
              "        [255, 255, 255],\n",
              "        [255, 255, 255]],\n",
              "\n",
              "       [[  0,   0,   0],\n",
              "        [254, 254, 254],\n",
              "        [254, 254, 254],\n",
              "        ...,\n",
              "        [255, 255, 255],\n",
              "        [255, 255, 255],\n",
              "        [255, 255, 255]]], dtype=uint8)</pre></div><script>\n",
              "      (() => {\n",
              "      const titles = ['show data', 'hide data'];\n",
              "      let index = 0\n",
              "      document.querySelector('#id-1deafc0a-9584-4635-ba03-5c4a9fe737d2 button').onclick = (e) => {\n",
              "        document.querySelector('#id-1deafc0a-9584-4635-ba03-5c4a9fe737d2').classList.toggle('show_array');\n",
              "        index = (++index) % 2;\n",
              "        document.querySelector('#id-1deafc0a-9584-4635-ba03-5c4a9fe737d2 button').textContent = titles[index];\n",
              "        e.preventDefault();\n",
              "        e.stopPropagation();\n",
              "      }\n",
              "      })();\n",
              "    </script>"
            ]
          },
          "metadata": {},
          "execution_count": 12
        }
      ]
    },
    {
      "cell_type": "markdown",
      "source": [
        "**Resize image**"
      ],
      "metadata": {
        "id": "hmUqcMk5OSxg"
      }
    },
    {
      "cell_type": "code",
      "source": [
        "img1=resize(img,(150,150,3)).flatten()\n",
        "img1.shape"
      ],
      "metadata": {
        "colab": {
          "base_uri": "https://localhost:8080/"
        },
        "id": "ZxCJzOvl0nTX",
        "outputId": "faba7563-d62a-4c74-cabd-3d4dd795f4c5"
      },
      "execution_count": 13,
      "outputs": [
        {
          "output_type": "execute_result",
          "data": {
            "text/plain": [
              "(67500,)"
            ]
          },
          "metadata": {},
          "execution_count": 13
        }
      ]
    },
    {
      "cell_type": "code",
      "source": [
        "img2=img1.reshape(1,-1)\n",
        "img2.shape"
      ],
      "metadata": {
        "colab": {
          "base_uri": "https://localhost:8080/"
        },
        "id": "rzDoTcRo0ss1",
        "outputId": "40faf3e4-c1fd-4df2-84ce-1bf9f99057ea"
      },
      "execution_count": 14,
      "outputs": [
        {
          "output_type": "execute_result",
          "data": {
            "text/plain": [
              "(1, 67500)"
            ]
          },
          "metadata": {},
          "execution_count": 14
        }
      ]
    },
    {
      "cell_type": "code",
      "source": [
        "X_train.shape"
      ],
      "metadata": {
        "id": "WStAorL1UF4F",
        "colab": {
          "base_uri": "https://localhost:8080/"
        },
        "outputId": "c3efb6e4-3607-457f-ab0a-8289d98ca3e0"
      },
      "execution_count": 15,
      "outputs": [
        {
          "output_type": "execute_result",
          "data": {
            "text/plain": [
              "(2205, 67500)"
            ]
          },
          "metadata": {},
          "execution_count": 15
        }
      ]
    },
    {
      "cell_type": "markdown",
      "source": [
        "**Prediction**"
      ],
      "metadata": {
        "id": "fgGRnHNROWJc"
      }
    },
    {
      "cell_type": "code",
      "source": [
        "y_new=sv.predict(img2)\n",
        "if y_new==0:\n",
        "  print(\"with mask\")\n",
        "else:\n",
        "  print(\"without mask\")"
      ],
      "metadata": {
        "id": "mTgIiotjUNOD",
        "colab": {
          "base_uri": "https://localhost:8080/"
        },
        "outputId": "59d46a72-22cf-4c6c-b64c-67452b731f3e"
      },
      "execution_count": 16,
      "outputs": [
        {
          "output_type": "stream",
          "name": "stdout",
          "text": [
            "with mask\n"
          ]
        }
      ]
    },
    {
      "cell_type": "code",
      "source": [
        "!jupyter nbconvert --to html mask_classification.ipynb"
      ],
      "metadata": {
        "colab": {
          "base_uri": "https://localhost:8080/"
        },
        "id": "oEqgBZrNTWMR",
        "outputId": "c3caee5e-efb7-4d17-fe9d-006bb4360e59"
      },
      "execution_count": 4,
      "outputs": [
        {
          "output_type": "stream",
          "name": "stdout",
          "text": [
            "[NbConvertApp] Converting notebook mask_classification.ipynb to html\n",
            "[NbConvertApp] Writing 722548 bytes to mask_classification.html\n"
          ]
        }
      ]
    }
  ]
}